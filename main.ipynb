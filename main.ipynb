{
 "cells": [
  {
   "cell_type": "code",
   "execution_count": 4,
   "id": "366fad2a-38fa-4ad3-ad23-1bb9f5100d3f",
   "metadata": {},
   "outputs": [],
   "source": [
    "from utils.configuration import get_config_from_json\n",
    "from utils.\n",
    "from seq2point.seq2point import SEQ2POINT\n",
    "import builtins"
   ]
  },
  {
   "cell_type": "code",
   "execution_count": 6,
   "id": "116171b7-5d4e-44c9-b749-9b05703cc440",
   "metadata": {},
   "outputs": [
    {
     "name": "stdout",
     "output_type": "stream",
     "text": [
      "Followings are the model parameters of your experiment..\n",
      "{'CONV_KERNEL': [10, 8, 6, 5, 5],\n",
      " 'CONV_LAYERS': 5,\n",
      " 'CONV_PADDING': [0],\n",
      " 'CONV_STRIDE': [1],\n",
      " 'INPUT_CHANNELS': [1, 30, 30, 40, 50],\n",
      " 'LEFT_PAD': [4, 3, 2, 2, 2],\n",
      " 'OUTPUT_CHANNELS': [30, 30, 40, 50, 50],\n",
      " 'POOL_KERNEL': [],\n",
      " 'POOL_STRIDE': [],\n",
      " 'RIGHT_PAD': [5, 4, 3, 2, 2],\n",
      " 'SEQUENCE_LENGTH': 599}\n"
     ]
    }
   ],
   "source": [
    "model_parameters = configuration.get_config_from_json(description=\"model parameters\", config_file=\"configs/model_config.json\")"
   ]
  },
  {
   "cell_type": "code",
   "execution_count": null,
   "id": "1ac3ef32-5253-457e-b8bd-27aba5b220d7",
   "metadata": {},
   "outputs": [],
   "source": [
    "model = SEQ2POINT(configuration.get_config_from_json(description=\"Model Parameters\", config_file=\"configs/model_parameters.json\"))."
   ]
  },
  {
   "cell_type": "code",
   "execution_count": null,
   "id": "44d618ee-50cb-449c-bf7f-9fdf3f4a53bf",
   "metadata": {},
   "outputs": [],
   "source": [
    "builtins.training_config = configuration.get_config_from_json(description=\"Training Model Parameters\", config_file=\"configs/training_parameters.json\")\n",
    "builtins.model_config = configuration.get_config_from_json(description=\"Model Configuration\", config_file=\"configs/model_config.json\")"
   ]
  },
  {
   "cell_type": "code",
   "execution_count": null,
   "id": "a40bc77d-473b-422d-bdb1-9477e53e7f6e",
   "metadata": {},
   "outputs": [],
   "source": [
    "# data = loading_dataset.load_dataset()"
   ]
  },
  {
   "cell_type": "code",
   "execution_count": null,
   "id": "834eb97e-dbe6-486b-a3fd-5b61acf56d87",
   "metadata": {},
   "outputs": [],
   "source": [
    "training_utilities.set_optimization(model)"
   ]
  },
  {
   "cell_type": "code",
   "execution_count": null,
   "id": "6af2181d-9c2a-4eeb-85a9-37cfd085e794",
   "metadata": {},
   "outputs": [],
   "source": [
    "model_config = {\n",
    "    'PRE-TRAINED_MODEL_FLAG': False,\n",
    "    'SAVE_PATH': \"../models/\",\n",
    "    'LOAD_MODEL': \"0.0014488688902929425.pt\",\n",
    "}\n",
    "\n",
    "model_params = {\n",
    "        'CONV_LAYERS': 5,\n",
    "        'INPUT_CHANNELS': [1, 30, 30, 40, 50],\n",
    "        'LEFT_PAD': [4, 3, 2, 2, 2],\n",
    "        'RIGHT_PAD': [5, 4, 3, 2, 2],\n",
    "        'OUTPUT_CHANNELS': [30, 30, 40, 50, 50],\n",
    "        'KERNEL': [10, 8, 6, 5, 5],\n",
    "        'STRIDE': 1,\n",
    "        'PADDING': 0,\n",
    "        'SEQUENCE_LENGTH': 599\n",
    "}\n",
    "\n",
    "dataset_config = {\n",
    "        'DATA_PATH': \"../data/\", \n",
    "}"
   ]
  }
 ],
 "metadata": {
  "kernelspec": {
   "display_name": "Python 3 (ipykernel)",
   "language": "python",
   "name": "python3"
  },
  "language_info": {
   "codemirror_mode": {
    "name": "ipython",
    "version": 3
   },
   "file_extension": ".py",
   "mimetype": "text/x-python",
   "name": "python",
   "nbconvert_exporter": "python",
   "pygments_lexer": "ipython3",
   "version": "3.10.6"
  }
 },
 "nbformat": 4,
 "nbformat_minor": 5
}
