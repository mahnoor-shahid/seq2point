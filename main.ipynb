{
 "cells": [
  {
   "cell_type": "code",
   "execution_count": 1,
   "id": "366fad2a-38fa-4ad3-ad23-1bb9f5100d3f",
   "metadata": {},
   "outputs": [],
   "source": [
    "from utils.configuration import get_config_from_json\n",
    "from utils.training_utilities import set_GPU\n",
    "from utils.plotting_traces import plot_traces\n",
    "from seq2point.seq2point import SEQ2POINT\n",
    "from refit_loader.data_loader import REFIT_Loader\n",
    "import builtins\n",
    "import os\n",
    "import torch\n",
    "from pprint import pprint\n",
    "\n",
    "builtins.GENERAL_CONFIG = get_config_from_json(description=\"General Settings\", config_file=\"configs/general_config.json\")\n",
    "builtins.MODEL_CONFIG = get_config_from_json(description=\"Model Parameters\", config_file=\"configs/model_config.json\")\n",
    "builtins.TRAINING_CONFIG = get_config_from_json(description=\"Training Configuration\", config_file=\"configs/training_config.json\")\n",
    "builtins.PLOT_CONFIG = get_config_from_json(description=\"Plot Settings\", config_file=\"configs/plot_config.json\")"
   ]
  },
  {
   "cell_type": "code",
   "execution_count": 2,
   "id": "09b9078a-66db-4272-ad91-74ad999eb553",
   "metadata": {},
   "outputs": [
    {
     "name": "stdout",
     "output_type": "stream",
     "text": [
      "Followings are the general configuration of your experiment..\n",
      "{'DATA_FOLDER': 'data/refit/', 'DATA_TYPE': '.csv', 'README_FILE': 'refit_loader/REFIT_Readme.txt', 'REFIT_HOUSES': [1, 2, 3, 4, 5, 6, 7, 8, 9, 10, 11, 12, 13, 15, 16, 17, 18, 19, 20, 21]}\n",
      "\n",
      "Loading specified buildings: [1, 2, 3, 4, 5, 6, 7, 8, 9, 10, 11, 12, 13, 15, 16, 17, 18, 19, 20, 21]\n",
      "Parsing the readme file specified: refit_loader/REFIT_Readme.txt\n"
     ]
    }
   ],
   "source": [
    "refit = REFIT_Loader()"
   ]
  },
  {
   "cell_type": "code",
   "execution_count": 3,
   "id": "addab95b-34dc-46b7-bc72-927ee627b488",
   "metadata": {},
   "outputs": [
    {
     "name": "stdout",
     "output_type": "stream",
     "text": [
      "Loading data for appliance KETTLE ...\n",
      "Fetching KETTLE data for House 2\n"
     ]
    }
   ],
   "source": [
    "kettle = refit.get_appliance_data(appliance=\"Kettle\", houses=[2])"
   ]
  },
  {
   "cell_type": "code",
   "execution_count": 4,
   "id": "68243b09-1180-45ac-bc38-9a2fbd7432f8",
   "metadata": {},
   "outputs": [
    {
     "name": "stdout",
     "output_type": "stream",
     "text": [
      "Resampling for house number:  2\n"
     ]
    }
   ],
   "source": [
    "kettle.resample(sampling_period='8s', fill_value=0.0, window_limit=1.0)"
   ]
  },
  {
   "cell_type": "code",
   "execution_count": 5,
   "id": "4d259869-0766-4895-91c0-6011d3ca6a66",
   "metadata": {},
   "outputs": [
    {
     "data": {
      "text/plain": [
       "aggregate    0\n",
       "kettle       0\n",
       "dtype: int64"
      ]
     },
     "execution_count": 5,
     "metadata": {},
     "output_type": "execute_result"
    }
   ],
   "source": [
    "kettle.data[2].isnull().sum()\n",
    "# kettle.data[2].dropna(inplace=True)"
   ]
  },
  {
   "cell_type": "code",
   "execution_count": 6,
   "id": "fffb98d1-5d65-4c48-a58f-8deab4e6e173",
   "metadata": {},
   "outputs": [],
   "source": [
    "import torch\n",
    "import numpy as np\n",
    "\n",
    "class DataGenerator(torch.utils.data.Dataset):\n",
    "    def __init__(self, data, seq_len=10):\n",
    "        \n",
    "        # print(torch.Tensor(data.iloc[4]))\n",
    "        # self.data = data\n",
    "        self.time = data.index\n",
    "        self.X = data['aggregate']\n",
    "        self.y = data[data.columns[-1]]\n",
    "        self.seq_len = seq_len\n",
    "        \n",
    "    def __len__(self):\n",
    "        return len(self.X)\n",
    "    \n",
    "    def __getitem__(self, index):\n",
    "        mid = int(index + (self.seq_len/2))\n",
    "        # print(np.array(self.time[index:index + self.seq_len]), np.array(self.X.iloc[index:index + self.seq_len]), np.array(self.y.iloc[[mid]]))\n",
    "        # return np.array(self.time[index:index + self.seq_len]), np.array(self.X.iloc[index:index + self.seq_len]), np.array(self.y.iloc[[mid]])\n",
    "        print(np.array(self.X.iloc[index:index + self.seq_len]), np.array(self.y.iloc[[mid]]))\n",
    "        return np.array(self.X.iloc[index:index + self.seq_len]), np.array(self.y.iloc[[mid]])\n"
   ]
  },
  {
   "cell_type": "code",
   "execution_count": null,
   "id": "5c7a8ca3-c2dd-4578-ac13-637bca829c28",
   "metadata": {},
   "outputs": [],
   "source": [
    "\n",
    "def main(train_data = kettle.data[2], valid_data = kettle.data[2]):\n",
    "    \n",
    "    print(f\"Followings are the {GENERAL_CONFIG['DESCRIPTION']} of your project..\")\n",
    "    pprint(GENERAL_CONFIG)\n",
    "    \n",
    "    ###### random seed selection in progress\n",
    "\n",
    "    random_seed = 10\n",
    "\n",
    "\n",
    "\n",
    "    data_generator = DataGenerator(data)\n",
    "\n",
    "    train_dataloader = torch.utils.data.DataLoader(dataset=generator, \n",
    "                                                  batch_size=128, # how many samples per batch\n",
    "                                                  num_workers=0, # how many subprocesses to use for data loading (higher = more)\n",
    "                                                  shuffle=False) # shuffle the data\n",
    "\n",
    "        \n",
    "    network = SEQ2POINT().to(set_GPU())\n",
    "    \n",
    "    train_loss, validation_loss = network.run(train_dataloader, train_dataloader)\n",
    "\n",
    "    plot_traces(traces = [train_loss, validation_loss], labels=['training', 'validation'], axis_labels=['Epochs', 'Loss'], title='Training Loss vs Validation Loss per Epoch')\n"
   ]
  },
  {
   "cell_type": "code",
   "execution_count": null,
   "id": "a70bf361-3227-4f21-9d03-3f6e00770bac",
   "metadata": {},
   "outputs": [],
   "source": [
    "main(train_x, train_y, validate_x, validate_y)"
   ]
  },
  {
   "cell_type": "code",
   "execution_count": null,
   "id": "3ea72453-abf4-472a-b8be-59753b7461f5",
   "metadata": {},
   "outputs": [],
   "source": []
  }
 ],
 "metadata": {
  "kernelspec": {
   "display_name": "Python 3 (ipykernel)",
   "language": "python",
   "name": "python3"
  },
  "language_info": {
   "codemirror_mode": {
    "name": "ipython",
    "version": 3
   },
   "file_extension": ".py",
   "mimetype": "text/x-python",
   "name": "python",
   "nbconvert_exporter": "python",
   "pygments_lexer": "ipython3",
   "version": "3.10.6"
  }
 },
 "nbformat": 4,
 "nbformat_minor": 5
}
