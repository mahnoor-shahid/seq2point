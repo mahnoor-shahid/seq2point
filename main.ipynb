{
 "cells": [
  {
   "cell_type": "code",
   "execution_count": 1,
   "id": "a90410a7-b5be-4753-9f26-28b7a40935fb",
   "metadata": {},
   "outputs": [],
   "source": [
    "from utils.configuration import get_config_from_json\n",
    "from utils.training_utilities import set_GPU\n",
    "from utils.plotting_traces import plot_traces\n",
    "from seq2point.seq2point import SEQ2POINT\n",
    "from dataset_management.dataloader import Seq2PointDataLoader\n",
    "import builtins"
   ]
  },
  {
   "cell_type": "code",
   "execution_count": 2,
   "id": "b1e2a85c-e20e-4349-a339-badf38ad8733",
   "metadata": {},
   "outputs": [],
   "source": [
    "builtins.MODEL_CONFIG = get_config_from_json(description=\"Model Parameters\", config_file=\"configs/model_config.json\")\n",
    "builtins.DATASET_CONFIG = get_config_from_json(description=\"Dataset Management\", config_file=\"configs/dataset_config.json\")\n",
    "builtins.PLOT_CONFIG = get_config_from_json(description=\"Plot Settings\", config_file=\"configs/plot_config.json\")\n",
    "builtins.TRAINING_CONFIG = get_config_from_json(description=\"Training Configuration\", config_file=\"configs/training_config.json\")"
   ]
  },
  {
   "cell_type": "code",
   "execution_count": 3,
   "outputs": [
    {
     "data": {
      "text/plain": "{'TARGET_APPLIANCE': 'washingmachine',\n 'TARGET_HOUSES': {'TRAIN': [2], 'VALIDATE': [2], 'TEST': [2]},\n 'SPLIT_PROPORTION': {'TRAIN_PERCENT': 0.6,\n  'VALIDATE_PERCENT': 0.2,\n  'TEST_PERCENT': 0.2},\n 'SUBSET_DAYS': 1,\n 'NORMALIZE': 'Standard',\n 'TRAIN_BATCH_SIZE': 512,\n 'VALIDATION_BATCH_SIZE': 64,\n 'TEST_BATCH_SIZE': 64,\n 'LEARNING_RATE': 0.0001,\n 'NUM_EPOCHS': 2,\n 'OPTIMIZER': 'optim.Adam',\n 'LOSS': 'nn.MSELoss',\n 'LOSS_REDUCTION': 'mean',\n 'EARLY_STOPPING_THRESHOLD': 5,\n 'PRE_TRAINED_MODEL_FLAG': False,\n 'SAVE_MODEL': 'models/',\n 'LOAD_MODEL': '',\n 'DESCRIPTION': 'Training Configuration'}"
     },
     "execution_count": 3,
     "metadata": {},
     "output_type": "execute_result"
    }
   ],
   "source": [
    "TRAINING_CONFIG"
   ],
   "metadata": {
    "collapsed": false
   }
  },
  {
   "cell_type": "code",
   "execution_count": 4,
   "outputs": [],
   "source": [
    "import json\n",
    "import os\n",
    "\n",
    "path = f'experiments/{TRAINING_CONFIG[\"TARGET_APPLIANCE\"]}/{TRAINING_CONFIG[\"TARGET_HOUSES\"][\"TRAIN\"]}/'\n",
    "if not os.path.exists(path):\n",
    "    os.makedirs(path)\n",
    "with open(f'{path}/experiment_config.json', 'w') as json_file:\n",
    "    json.dump(TRAINING_CONFIG, json_file)"
   ],
   "metadata": {
    "collapsed": false
   }
  },
  {
   "cell_type": "code",
   "execution_count": 5,
   "id": "30ba9340-62ed-4205-8d4c-3a79f2177363",
   "metadata": {},
   "outputs": [
    {
     "name": "stdout",
     "output_type": "stream",
     "text": [
      "Followings are the refit_loader configuration \n",
      "{'DATA_FOLDER': 'data/refit/', 'DATA_TYPE': '.csv', 'README_FILE': 'refit_loader/REFIT_Readme.txt', 'REFIT_HOUSES': [1, 2, 3, 4, 5, 6, 7, 8, 9, 10, 11, 12, 13, 15, 16, 17, 18, 19, 20, 21]}\n",
      "\n",
      "Loading specified buildings: [1, 2, 3, 4, 5, 6, 7, 8, 9, 10, 11, 12, 13, 15, 16, 17, 18, 19, 20, 21]\n",
      "Parsing the readme file specified: refit_loader/REFIT_Readme.txt\n",
      "Loading data for appliance WASHINGMACHINE ...\n",
      "Fetching WASHINGMACHINE data for House 2\n",
      "Resampling for house number:  2\n",
      "Updating data with resampled dataset...\n",
      "Subetting dataset with 1 days of most activities for House 2\n",
      "Estimating active durations of: washingmachine\n",
      "Updating data with selected active appliance activities...\n",
      "Updating splits with specified proportion from every target house...\n",
      "Normalization is being performed for training a model. Scalers will be computed/fit considering the train_split and using those scalers, all splits will be normalized/transformed.\n",
      "Updating splits with normalized data splits...\n",
      "\n",
      "Creating dataloaders...\n",
      "Data Loaders are successfully initialized.\n"
     ]
    }
   ],
   "source": [
    "dataloaders = Seq2PointDataLoader(\n",
    "    target_appliance=TRAINING_CONFIG['TARGET_APPLIANCE'], \n",
    "    target_houses= TRAINING_CONFIG['TARGET_HOUSES'], \n",
    "    proportion = TRAINING_CONFIG['SPLIT_PROPORTION'], \n",
    "    subset_days = TRAINING_CONFIG['SUBSET_DAYS'], \n",
    "    normalize_with=TRAINING_CONFIG['NORMALIZE'])"
   ]
  },
  {
   "cell_type": "code",
   "execution_count": 6,
   "outputs": [
    {
     "name": "stdout",
     "output_type": "stream",
     "text": [
      "\n",
      "Initializing SEQ2POINT model archiecture\n",
      "\n",
      "Followings are the Model Parameters of your network architecture..\n",
      "{'CONV_KERNEL': [10, 8, 6, 5, 5],\n",
      " 'CONV_LAYERS': 5,\n",
      " 'CONV_PADDING': 0,\n",
      " 'CONV_STRIDE': 1,\n",
      " 'DESCRIPTION': 'Model Parameters',\n",
      " 'INPUT_CHANNELS': [1, 30, 30, 40, 50],\n",
      " 'LEFT_PAD': [4, 3, 2, 2, 2],\n",
      " 'LINEAR_INPUT': [29950, 1024],\n",
      " 'LINEAR_LAYERS': 2,\n",
      " 'LINEAR_OUTPUT': [1024, 1],\n",
      " 'OUTPUT_CHANNELS': [30, 30, 40, 50, 50],\n",
      " 'POOL_KERNEL': [],\n",
      " 'POOL_STRIDE': [],\n",
      " 'RIGHT_PAD': [5, 4, 3, 2, 2],\n",
      " 'SEQUENCE_LENGTH': 599}\n",
      "\n",
      "SEQ2POINT model archiecture has been initialized.\n",
      "\n",
      "\n",
      "Followings are the Training Configuration of your experiment..\n",
      "{'DESCRIPTION': 'Training Configuration',\n",
      " 'EARLY_STOPPING_THRESHOLD': 5,\n",
      " 'LEARNING_RATE': 0.0001,\n",
      " 'LOAD_MODEL': '',\n",
      " 'LOSS': 'nn.MSELoss',\n",
      " 'LOSS_REDUCTION': 'mean',\n",
      " 'NORMALIZE': 'Standard',\n",
      " 'NUM_EPOCHS': 2,\n",
      " 'OPTIMIZER': 'optim.Adam',\n",
      " 'PRE_TRAINED_MODEL_FLAG': False,\n",
      " 'SAVE_MODEL': 'models/',\n",
      " 'SPLIT_PROPORTION': {'TEST_PERCENT': 0.2,\n",
      "                      'TRAIN_PERCENT': 0.6,\n",
      "                      'VALIDATE_PERCENT': 0.2},\n",
      " 'SUBSET_DAYS': 1,\n",
      " 'TARGET_APPLIANCE': 'washingmachine',\n",
      " 'TARGET_HOUSES': {'TEST': [2], 'TRAIN': [2], 'VALIDATE': [2]},\n",
      " 'TEST_BATCH_SIZE': 64,\n",
      " 'TRAIN_BATCH_SIZE': 512,\n",
      " 'VALIDATION_BATCH_SIZE': 64}\n",
      "\n",
      "Summary of the model architecture\n",
      "==========================================================================================\n",
      "Layer (type:depth-idx)                   Output Shape              Param #\n",
      "==========================================================================================\n",
      "├─Sequential: 1-1                        [-1, 50, 599]             --\n",
      "|    └─ConstantPad1d: 2-1                [-1, 1, 608]              --\n",
      "|    └─Conv1d: 2-2                       [-1, 30, 599]             330\n",
      "|    └─ReLU: 2-3                         [-1, 30, 599]             --\n",
      "|    └─ConstantPad1d: 2-4                [-1, 30, 606]             --\n",
      "|    └─Conv1d: 2-5                       [-1, 30, 599]             7,230\n",
      "|    └─ReLU: 2-6                         [-1, 30, 599]             --\n",
      "|    └─ConstantPad1d: 2-7                [-1, 30, 604]             --\n",
      "|    └─Conv1d: 2-8                       [-1, 40, 599]             7,240\n",
      "|    └─ReLU: 2-9                         [-1, 40, 599]             --\n",
      "|    └─ConstantPad1d: 2-10               [-1, 40, 603]             --\n",
      "|    └─Conv1d: 2-11                      [-1, 50, 599]             10,050\n",
      "|    └─ReLU: 2-12                        [-1, 50, 599]             --\n",
      "|    └─ConstantPad1d: 2-13               [-1, 50, 603]             --\n",
      "|    └─Conv1d: 2-14                      [-1, 50, 599]             12,550\n",
      "|    └─ReLU: 2-15                        [-1, 50, 599]             --\n",
      "├─Sequential: 1-2                        [-1, 1]                   --\n",
      "|    └─Linear: 2-16                      [-1, 1024]                30,669,824\n",
      "|    └─ReLU: 2-17                        [-1, 1024]                --\n",
      "|    └─Linear: 2-18                      [-1, 1]                   1,025\n",
      "==========================================================================================\n",
      "Total params: 30,708,249\n",
      "Trainable params: 30,708,249\n",
      "Non-trainable params: 0\n",
      "Total mult-adds (M): 83.66\n",
      "==========================================================================================\n",
      "Input size (MB): 0.00\n",
      "Forward/backward pass size (MB): 0.92\n",
      "Params size (MB): 117.14\n",
      "Estimated Total Size (MB): 118.07\n",
      "==========================================================================================\n",
      "Loss is set with loss_reduction = mean\n",
      "\n",
      "\n",
      "Training the model architecture...\n",
      "Epoch : [1/2] | Step : [20/34]|  Average Validation Loss : 0.01463776492382749\n",
      "==================================================================================================================================================\n",
      "Epoch : [1/2] | Training Loss : 0.08088559673342388, | Validation Loss : 0.03740990593873635, | Time consumption: 0:00:01.977814s\n",
      "==================================================================================================================================================\n",
      "Epoch : [2/2] | Step : [20/34]|  Average Validation Loss : 0.0004407253447425319\n",
      "==================================================================================================================================================\n",
      "Epoch : [2/2] | Training Loss : 0.008321030038552215, | Validation Loss : 0.0049482286771415284, | Time consumption: 0:00:01.818869s\n",
      "==================================================================================================================================================\n",
      "Saving the 2022-12-02_best_loss_0 model...\n",
      "\n"
     ]
    }
   ],
   "source": [
    "network = SEQ2POINT().to(set_GPU())\n",
    "results = network.run(dataloaders.train_dataloader, dataloaders.validation_dataloader, assess_training=False)"
   ],
   "metadata": {
    "collapsed": false
   }
  },
  {
   "cell_type": "code",
   "execution_count": 7,
   "id": "e2d8f1d2-f0a1-40d6-b9ba-6a9bee0c63d5",
   "metadata": {},
   "outputs": [
    {
     "name": "stdout",
     "output_type": "stream",
     "text": [
      "\n",
      "Initializing SEQ2POINT model archiecture\n",
      "\n",
      "Followings are the Model Parameters of your network architecture..\n",
      "{'CONV_KERNEL': [10, 8, 6, 5, 5],\n",
      " 'CONV_LAYERS': 5,\n",
      " 'CONV_PADDING': 0,\n",
      " 'CONV_STRIDE': 1,\n",
      " 'DESCRIPTION': 'Model Parameters',\n",
      " 'INPUT_CHANNELS': [1, 30, 30, 40, 50],\n",
      " 'LEFT_PAD': [4, 3, 2, 2, 2],\n",
      " 'LINEAR_INPUT': [29950, 1024],\n",
      " 'LINEAR_LAYERS': 2,\n",
      " 'LINEAR_OUTPUT': [1024, 1],\n",
      " 'OUTPUT_CHANNELS': [30, 30, 40, 50, 50],\n",
      " 'POOL_KERNEL': [],\n",
      " 'POOL_STRIDE': [],\n",
      " 'RIGHT_PAD': [5, 4, 3, 2, 2],\n",
      " 'SEQUENCE_LENGTH': 599}\n",
      "\n",
      "SEQ2POINT model archiecture has been initialized.\n",
      "\n"
     ]
    }
   ],
   "source": [
    "test_network = SEQ2POINT().to(set_GPU())"
   ]
  },
  {
   "cell_type": "code",
   "execution_count": 8,
   "id": "30dee667-912b-4c0f-84ba-dfebfc0a06e4",
   "metadata": {},
   "outputs": [
    {
     "name": "stdout",
     "output_type": "stream",
     "text": [
      "Loading the model...models/2022-12-02_best_loss_0.pt\n",
      "Model's state_dict:\n",
      "conv.1.weight \t torch.Size([30, 1, 10])\n",
      "conv.1.bias \t torch.Size([30])\n",
      "conv.4.weight \t torch.Size([30, 30, 8])\n",
      "conv.4.bias \t torch.Size([30])\n",
      "conv.7.weight \t torch.Size([40, 30, 6])\n",
      "conv.7.bias \t torch.Size([40])\n",
      "conv.10.weight \t torch.Size([50, 40, 5])\n",
      "conv.10.bias \t torch.Size([50])\n",
      "conv.13.weight \t torch.Size([50, 50, 5])\n",
      "conv.13.bias \t torch.Size([50])\n",
      "dense.0.weight \t torch.Size([1024, 29950])\n",
      "dense.0.bias \t torch.Size([1024])\n",
      "dense.2.weight \t torch.Size([1, 1024])\n",
      "dense.2.bias \t torch.Size([1])\n",
      "Loss is set with loss_reduction = mean\n",
      "Average Test Loss : 5.767048199387157, Time consumption: 0:00:00.944559s\n"
     ]
    },
    {
     "data": {
      "text/plain": "[0.905463457107544,\n 0.8753358125686646,\n 1.051973581314087,\n 0.9404566884040833,\n 1.123887062072754,\n 0.26275742053985596,\n 0.3428201675415039,\n 1.5158991813659668,\n 3.499354362487793,\n 4.534339904785156,\n 5.4660444259643555,\n 88.50533294677734,\n 8.543002128601074,\n 5.050264835357666,\n 2.568528652191162,\n 3.182976722717285,\n 3.5965232849121094,\n 3.0654170513153076,\n 1.8106902837753296,\n 1.3490136861801147,\n 1.2208225727081299,\n 2.4226913452148438,\n 1.6732611656188965,\n 1.2661677598953247,\n 1.1077702045440674,\n 1.6991021633148193,\n 2.5104105472564697,\n 1.9374276399612427,\n 3.224032402038574,\n 4.644961833953857,\n 5.762399196624756,\n 6.863101005554199,\n 9.782821655273438,\n 13.774587631225586]"
     },
     "execution_count": 8,
     "metadata": {},
     "output_type": "execute_result"
    }
   ],
   "source": [
    "test_network.inference(dataloaders.test_dataloader)"
   ]
  },
  {
   "cell_type": "code",
   "execution_count": null,
   "id": "614b9ad2-5a4b-407a-ac42-26123f61757f",
   "metadata": {},
   "outputs": [],
   "source": []
  }
 ],
 "metadata": {
  "kernelspec": {
   "display_name": "Python 3 (ipykernel)",
   "language": "python",
   "name": "python3"
  },
  "language_info": {
   "codemirror_mode": {
    "name": "ipython",
    "version": 3
   },
   "file_extension": ".py",
   "mimetype": "text/x-python",
   "name": "python",
   "nbconvert_exporter": "python",
   "pygments_lexer": "ipython3",
   "version": "3.10.6"
  }
 },
 "nbformat": 4,
 "nbformat_minor": 5
}
