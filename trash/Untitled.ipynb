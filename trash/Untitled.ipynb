{
 "cells": [
  {
   "cell_type": "code",
   "execution_count": 1,
   "id": "e36ce7e6-1fb3-4ea7-a6a5-eefbc97a43d7",
   "metadata": {},
   "outputs": [],
   "source": [
    "import numpy as np"
   ]
  },
  {
   "cell_type": "code",
   "execution_count": 2,
   "id": "c5abbc7a-4ecf-41ec-8348-97c9edea6acb",
   "metadata": {},
   "outputs": [],
   "source": [
    "from sklearn.model_selection import train_test_split\n",
    "from torch.utils.data.dataset import TensorDataset\n",
    "import torch\n",
    "from refit_loader.data_loader import REFIT_Loader"
   ]
  },
  {
   "cell_type": "code",
   "execution_count": 3,
   "id": "d04cc594-c415-46d9-8f60-358f88f6930c",
   "metadata": {},
   "outputs": [
    {
     "name": "stdout",
     "output_type": "stream",
     "text": [
      "Followings are the general configuration of your experiment..\n",
      "{'DATA_FOLDER': 'data/refit/', 'DATA_TYPE': '.csv', 'README_FILE': 'refit_loader/REFIT_Readme.txt', 'REFIT_HOUSES': [1, 2, 3, 4, 5, 6, 7, 8, 9, 10, 11, 12, 13, 15, 16, 17, 18, 19, 20, 21]}\n",
      "\n",
      "Loading specified buildings: [1, 2, 3, 4, 5, 6, 7, 8, 9, 10, 11, 12, 13, 15, 16, 17, 18, 19, 20, 21]\n",
      "Parsing the readme file specified: refit_loader/REFIT_Readme.txt\n"
     ]
    }
   ],
   "source": [
    "refit = REFIT_Loader()"
   ]
  },
  {
   "cell_type": "code",
   "execution_count": 4,
   "id": "7316eb9a-dbad-451c-a5a6-169444177f5b",
   "metadata": {},
   "outputs": [
    {
     "name": "stdout",
     "output_type": "stream",
     "text": [
      "Loading data for appliance KETTLE ...\n",
      "Fetching KETTLE data for House 4\n"
     ]
    }
   ],
   "source": [
    "kettle = refit.get_appliance_data(appliance=\"Kettle\", houses=[4])"
   ]
  },
  {
   "cell_type": "code",
   "execution_count": 5,
   "id": "881f8576-d0c3-4e91-b09c-de26bb86c4f8",
   "metadata": {},
   "outputs": [],
   "source": [
    "# kettle.resample(sampling_period='8s', fill_value=0.0, window_limit=3.0)"
   ]
  },
  {
   "cell_type": "code",
   "execution_count": 6,
   "id": "6b85ee08-9d9f-48e2-bcc7-14ab39631e89",
   "metadata": {},
   "outputs": [],
   "source": [
    "# kettle.data[2]['aggregate']"
   ]
  },
  {
   "cell_type": "code",
   "execution_count": 7,
   "id": "0fb5ad93-b93c-47ff-a1ff-8c33088d9ca1",
   "metadata": {},
   "outputs": [],
   "source": [
    "from data_generator import DataGenerator "
   ]
  },
  {
   "cell_type": "code",
   "execution_count": 8,
   "id": "328be8b1-b5b4-4ef5-8a6b-c62cfeb650b7",
   "metadata": {},
   "outputs": [],
   "source": [
    "train_x= np.array(kettle.data[4]['aggregate'][0:1000])\n",
    "train_y= np.array(kettle.data[4]['kettle'][0:1000] )\n",
    "validate_x= np.array(kettle.data[4]['aggregate'][0:1000])\n",
    "validate_y= np.array(kettle.data[4]['kettle'][0:1000])"
   ]
  },
  {
   "cell_type": "code",
   "execution_count": 9,
   "id": "586bd868-b8d9-4b72-84fb-d55df0c6ba13",
   "metadata": {},
   "outputs": [],
   "source": [
    "generator = DataGenerator( train_x, train_y, validate_x, validate_y,\n",
    "                              batch_size=128,\n",
    "                              seq_len=599,\n",
    "                              width=100)"
   ]
  },
  {
   "cell_type": "code",
   "execution_count": 10,
   "id": "c9d499de-ddf7-4874-b6f3-808aa7743613",
   "metadata": {},
   "outputs": [],
   "source": [
    "# generator.generate()"
   ]
  },
  {
   "cell_type": "code",
   "execution_count": null,
   "id": "fa877aa5-a1c6-4fdc-b08d-c04a3056233a",
   "metadata": {},
   "outputs": [],
   "source": [
    "import torch.utils.data.dataloader as DataLoader"
   ]
  },
  {
   "cell_type": "code",
   "execution_count": null,
   "id": "d8ba7e2a-20c8-4d44-8be2-ab8d328399ff",
   "metadata": {},
   "outputs": [],
   "source": [
    "# Load dataloader\n",
    "dataloader_train = DataLoader(path_data, subset=\"train\", shuffle=True, **config)\n",
    "dataloader_validation = DataLoader(\n",
    "        path_data, subset=\"validation\", shuffle=True, **config\n",
    "    )\n",
    "dataloader_test = DataLoader(path_data, subset=\"test\", shuffle=False, **config)"
   ]
  },
  {
   "cell_type": "code",
   "execution_count": null,
   "id": "5b158fbd-c2a1-4f91-bed5-459d9edb4862",
   "metadata": {},
   "outputs": [],
   "source": [
    "train_dataloader = torch.utils.data.DataLoader(dataset=train_dataset, \n",
    "                                  batch_size=20, # how many samples per batch\n",
    "                                  num_workers=1, # how many subprocesses to use for data loading (higher = more)\n",
    "                                  shuffle=True) # shuffle the data"
   ]
  }
 ],
 "metadata": {
  "kernelspec": {
   "display_name": "Python 3 (ipykernel)",
   "language": "python",
   "name": "python3"
  },
  "language_info": {
   "codemirror_mode": {
    "name": "ipython",
    "version": 3
   },
   "file_extension": ".py",
   "mimetype": "text/x-python",
   "name": "python",
   "nbconvert_exporter": "python",
   "pygments_lexer": "ipython3",
   "version": "3.10.6"
  }
 },
 "nbformat": 4,
 "nbformat_minor": 5
}
